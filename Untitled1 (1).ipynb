{
  "nbformat": 4,
  "nbformat_minor": 0,
  "metadata": {
    "colab": {
      "provenance": []
    },
    "kernelspec": {
      "name": "python3",
      "display_name": "Python 3"
    },
    "language_info": {
      "name": "python"
    }
  },
  "cells": [
    {
      "cell_type": "markdown",
      "source": [
        "# **Introduction to Variables in Python**"
      ],
      "metadata": {
        "id": "HJxdP1CbrYRK"
      }
    },
    {
      "cell_type": "markdown",
      "source": [
        "##  **Task 1:**\n",
        "### Differentiate between assignment operator and equality operator.\n",
        "\n",
        "## Answer:\n",
        "\n",
        "\n",
        "*   Assignment Operator (=): This operator is used to assign a value to a variable. For example, x = 5 assigns the value 5 to the variable x.\n",
        "*  Equality Operator (==): This operator is used to compare two values to check if they are equal. For example, x == 5 compares the value of x to see if it is equal to 5. It returns True if x is equal to 5, and False otherwise.\n"
      ],
      "metadata": {
        "id": "DIBR1UmGvJId"
      }
    },
    {
      "cell_type": "markdown",
      "source": [
        "## **TASK 2:**\n",
        "### Explore all kinds data types of variables. And  write code for each datatype.  # Integer variable, # Floating-point variable, # String variable, # Boolean variable\n",
        "\n",
        "\n",
        "## Answer:"
      ],
      "metadata": {
        "id": "IkMEwu6Rv2fc"
      }
    },
    {
      "cell_type": "code",
      "source": [
        "# Integer variable\n",
        "int = 10\n",
        "\n",
        "# Floating-point variable\n",
        "float = 3.14\n",
        "\n",
        "# String variable\n",
        "str = \"Hello, world!\"\n",
        "\n",
        "# Boolean variable\n",
        "bool = True\n",
        "\n",
        "\n",
        "print(\"integer:\", int)\n",
        "print(\"float:\", float)\n",
        "print(\"string:\", str)\n",
        "print(\"boolean:\", bool)\n"
      ],
      "metadata": {
        "colab": {
          "base_uri": "https://localhost:8080/"
        },
        "id": "aSCqo-JBv7vE",
        "outputId": "32e9b246-2707-450b-8fc0-d1676fb418b9"
      },
      "execution_count": 3,
      "outputs": [
        {
          "output_type": "stream",
          "name": "stdout",
          "text": [
            "integer: 10\n",
            "float: 3.14\n",
            "string: Hello, world!\n",
            "boolean: True\n"
          ]
        }
      ]
    },
    {
      "cell_type": "markdown",
      "source": [
        "## **TASK 3:**\n",
        "### Explain the rules for variables name and use different variables name including special characters, numbers etc.\n",
        "\n",
        "## Answer:\n",
        "\n",
        "\n",
        "*   Variable names can contain letters (both uppercase and lowercase), digits, and underscores.\n",
        "*  Variable names must start with a letter or an underscore.\n",
        "*   Variable names cannot start with a digit.\n",
        "*   Variable names are case-sensitive.\n",
        "*   Variable names cannot be Python keywords."
      ],
      "metadata": {
        "id": "PjLbG33fw0-d"
      }
    },
    {
      "cell_type": "code",
      "source": [
        "my_variable = 10\n",
        "myVar = \"Hello\"\n",
        "_my_variable2 = True\n",
        "variable123 = 3.14\n",
        "\n",
        "print(\"Value of my_variable:\", my_variable)\n",
        "print(\"Value of myVar:\", myVar)\n",
        "print(\"Value of _my_variable2:\", _my_variable2)\n",
        "print(\"Value of variable123:\", variable123)"
      ],
      "metadata": {
        "colab": {
          "base_uri": "https://localhost:8080/"
        },
        "id": "xSG6JXABxQXJ",
        "outputId": "337625cc-6b8f-4e6d-edc5-1a4ab892ca73"
      },
      "execution_count": 4,
      "outputs": [
        {
          "output_type": "stream",
          "name": "stdout",
          "text": [
            "Value of my_variable: 10\n",
            "Value of myVar: Hello\n",
            "Value of _my_variable2: True\n",
            "Value of variable123: 3.14\n"
          ]
        }
      ]
    },
    {
      "cell_type": "markdown",
      "source": [
        "## **TASK 4:**\n",
        "### Declare and initialize multiple variables in a single line. Single variable with multiple values, multiple variables with single values. Each having at least two examples.\n",
        "\n",
        "## Answer:"
      ],
      "metadata": {
        "id": "J91WnSNRxoW8"
      }
    },
    {
      "cell_type": "code",
      "source": [
        "a = 1, 2, 3\n",
        "x = y = z = 20\n",
        "\n",
        "print (a)\n",
        "print (x, y)"
      ],
      "metadata": {
        "colab": {
          "base_uri": "https://localhost:8080/"
        },
        "id": "w5Sng-pVy3O6",
        "outputId": "7361ac77-b021-4ff4-8ec2-a7b4837102fb"
      },
      "execution_count": 7,
      "outputs": [
        {
          "output_type": "stream",
          "name": "stdout",
          "text": [
            "(1, 2, 3)\n",
            "20 20\n"
          ]
        }
      ]
    },
    {
      "cell_type": "markdown",
      "source": [
        "## **TASK 5:**\n",
        "### Perform arithmetic operations on integers and floating-point numbers.\n",
        "*   Adding, Subtracting, Multiplication and dividing two integer variables.\n",
        "*   Adding, Subtracting, Multiplication and dividing floating-point variables\n",
        "\n",
        "## Answer:"
      ],
      "metadata": {
        "id": "6kjsKh3pyqXn"
      }
    },
    {
      "cell_type": "code",
      "source": [
        "# Integers\n",
        "x = 10\n",
        "y = 5\n",
        "print(\"Integer Operations:\")\n",
        "print(\"Addition:\", x + y)\n",
        "print(\"Subtraction:\", x - y)\n",
        "print(\"Multiplication:\", x * y)\n",
        "print(\"Division:\", x / y)\n",
        "\n",
        "# Floating-point numbers\n",
        "a = 3.5\n",
        "b = 2.0\n",
        "print(\"\\nFloating-point Operations:\")\n",
        "print(\"Addition:\", a + b)\n",
        "print(\"Subtraction:\", a - b)\n",
        "print(\"Multiplication:\", a * b)\n",
        "print(\"Division:\", a / b)\n"
      ],
      "metadata": {
        "colab": {
          "base_uri": "https://localhost:8080/"
        },
        "id": "t1k8gEwKxrUw",
        "outputId": "265139e6-e97b-4e75-d30a-32fd3b18173c"
      },
      "execution_count": 5,
      "outputs": [
        {
          "output_type": "stream",
          "name": "stdout",
          "text": [
            "Integer Operations:\n",
            "Addition: 15\n",
            "Subtraction: 5\n",
            "Multiplication: 50\n",
            "Division: 2.0\n",
            "\n",
            "Floating-point Operations:\n",
            "Addition: 5.5\n",
            "Subtraction: 1.5\n",
            "Multiplication: 7.0\n",
            "Division: 1.75\n"
          ]
        }
      ]
    },
    {
      "cell_type": "markdown",
      "source": [
        "## **TASK 6:**\n",
        "### A string literal is a sequence of characters enclosed in quotes. In Python, we can use either single quotes (‘…’) or double quotes (“…”) to create a string.   \n",
        "*   Using single quotes\n",
        "*   Using double quotes\n",
        "*   Using double quotes when the string contains a single quote\n",
        "*   Using single quotes when the string contains double quotes\n",
        "\n",
        "\n",
        "## Answer:"
      ],
      "metadata": {
        "id": "TKPuevPVy_vf"
      }
    },
    {
      "cell_type": "code",
      "source": [
        "# Using single quotes\n",
        "single_quoted_string = 'Hello, world!'\n",
        "\n",
        "# Using double quotes\n",
        "double_quoted_string = \"Hello, world!\"\n",
        "\n",
        "# Using double quotes when the string contains a single quote\n",
        "double_quoted_with_single_quote = \"It's a beautiful day.\"\n",
        "\n",
        "# Using single quotes when the string contains double quotes\n",
        "single_quoted_with_double_quotes = 'She said, \"Hello!\"'\n",
        "\n",
        "# Print statements\n",
        "print(\"Single quoted string:\", single_quoted_string)\n",
        "print(\"Double quoted string:\", double_quoted_string)\n",
        "print(\"Double quoted string with single quote:\", double_quoted_with_single_quote)\n",
        "print(\"Single quoted string with double quotes:\", single_quoted_with_double_quotes)\n"
      ],
      "metadata": {
        "colab": {
          "base_uri": "https://localhost:8080/"
        },
        "id": "tVZQ0WsWzFMc",
        "outputId": "1d4283d1-3c4d-4bb0-a538-36928dab26d3"
      },
      "execution_count": 8,
      "outputs": [
        {
          "output_type": "stream",
          "name": "stdout",
          "text": [
            "Single quoted string: Hello, world!\n",
            "Double quoted string: Hello, world!\n",
            "Double quoted string with single quote: It's a beautiful day.\n",
            "Single quoted string with double quotes: She said, \"Hello!\"\n"
          ]
        }
      ]
    },
    {
      "cell_type": "markdown",
      "source": [
        "## **TASK 7:**\n",
        "### The print() function is a built-in function in Python that allows you to output variables and other data to the console.\n",
        "*   Example of using the print() function to output a variable\n",
        "*   Example of outputting multiple variables with print()\n",
        "*   Example of using f-strings to format output\n",
        "*   Example of using f-strings to manipulate variables in output\n",
        "\n",
        "## Answer:\n"
      ],
      "metadata": {
        "id": "G7XuUEJazuHC"
      }
    },
    {
      "cell_type": "code",
      "source": [
        "# Example of using the print() function to output a variable\n",
        "x = 10\n",
        "print(x)\n",
        "\n",
        "# Example of outputting multiple variables with print()\n",
        "y = 20\n",
        "print(x, y)\n",
        "\n",
        "# Example of using f-strings to format output\n",
        "name = \"Qasim\"\n",
        "age = 30\n",
        "print(f\"My name is {name} and I am {age} years old.\")\n",
        "\n",
        "# Example of using f-strings to manipulate variables in output\n",
        "length = 10\n",
        "width = 5\n",
        "area = length * width\n",
        "print(f\"The area of the rectangle is {area}.\")\n"
      ],
      "metadata": {
        "colab": {
          "base_uri": "https://localhost:8080/"
        },
        "id": "qFaZFCCOzw56",
        "outputId": "7688b586-d94d-46c4-90eb-f4d3676cb29c"
      },
      "execution_count": 9,
      "outputs": [
        {
          "output_type": "stream",
          "name": "stdout",
          "text": [
            "10\n",
            "10 20\n",
            "My name is Qasim and I am 30 years old.\n",
            "The area of the rectangle is 50.\n"
          ]
        }
      ]
    }
  ]
}