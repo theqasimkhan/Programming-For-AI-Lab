{
  "nbformat": 4,
  "nbformat_minor": 0,
  "metadata": {
    "colab": {
      "provenance": [],
      "authorship_tag": "ABX9TyP9jPDzBrEFUOjuFWtU1NsR",
      "include_colab_link": true
    },
    "kernelspec": {
      "name": "python3",
      "display_name": "Python 3"
    },
    "language_info": {
      "name": "python"
    }
  },
  "cells": [
    {
      "cell_type": "markdown",
      "metadata": {
        "id": "view-in-github",
        "colab_type": "text"
      },
      "source": [
        "<a href=\"https://colab.research.google.com/github/theqasimkhan/Programming-For-AI-Lab/blob/main/Programming_for_AI_Lab_Report_03.ipynb\" target=\"_parent\"><img src=\"https://colab.research.google.com/assets/colab-badge.svg\" alt=\"Open In Colab\"/></a>"
      ]
    },
    {
      "cell_type": "markdown",
      "source": [
        "# 1.\tAccess List Items:\n",
        "## •\tCreate a list of fruits.\n",
        "## •\tPrint the first and last items of the list."
      ],
      "metadata": {
        "id": "Qea3wEP_3KAU"
      }
    },
    {
      "cell_type": "code",
      "execution_count": 16,
      "metadata": {
        "colab": {
          "base_uri": "https://localhost:8080/"
        },
        "id": "HImzmO2l1_Ag",
        "outputId": "bd934bfe-41c0-4dbf-a23f-bdb78c18558f"
      },
      "outputs": [
        {
          "output_type": "stream",
          "name": "stdout",
          "text": [
            "First item: apple\n",
            "Last item: kiwi\n"
          ]
        }
      ],
      "source": [
        "# 1. Access List Items\n",
        "fruits = [\"apple\", \"peach\", \"watermelon\", \"grape\", \"kiwi\"]\n",
        "print(\"First item:\", fruits[0])\n",
        "print(\"Last item:\", fruits[-1])\n",
        "\n"
      ]
    },
    {
      "cell_type": "markdown",
      "source": [
        "# 2.\tChange List Items:\n",
        "## •\tCreate a list of colors.\n",
        "## •\tChange the second item in the list to \"blue\".\n"
      ],
      "metadata": {
        "id": "Fb9vT8Y43ZZg"
      }
    },
    {
      "cell_type": "code",
      "source": [
        "# 2. Change List Items\n",
        "colors = [\"red\", \"black\", \"blue\"]\n",
        "colors[1] = \"blue\"\n",
        "print(\"Updated colors:\", colors)"
      ],
      "metadata": {
        "colab": {
          "base_uri": "https://localhost:8080/"
        },
        "id": "7chRTwpG2WhC",
        "outputId": "9963aa85-7f63-4f26-8444-3af54e0c828c"
      },
      "execution_count": 17,
      "outputs": [
        {
          "output_type": "stream",
          "name": "stdout",
          "text": [
            "Updated colors: ['red', 'blue', 'blue']\n"
          ]
        }
      ]
    },
    {
      "cell_type": "markdown",
      "source": [
        "# 3.\tAdd List Items:\n",
        "## •\tCreate a list of numbers.\n",
        "## •\tAdd the number 10 at the end of the list.\n"
      ],
      "metadata": {
        "id": "d_1__eTG3f2S"
      }
    },
    {
      "cell_type": "code",
      "source": [
        "# 3. Add List Items\n",
        "numbers = [3,4,5,6,7,8]\n",
        "numbers.append(10)\n",
        "print(\"Updated numbers:\", numbers)"
      ],
      "metadata": {
        "colab": {
          "base_uri": "https://localhost:8080/"
        },
        "id": "WwiG3B2x2hFm",
        "outputId": "0ce63ac2-4c39-47b7-c895-732d81e454e1"
      },
      "execution_count": 18,
      "outputs": [
        {
          "output_type": "stream",
          "name": "stdout",
          "text": [
            "Updated numbers: [3, 4, 5, 6, 7, 8, 10]\n"
          ]
        }
      ]
    },
    {
      "cell_type": "markdown",
      "source": [
        "# 4.\tRemove List Items:\n",
        "## •\tCreate a list of animals.\n",
        "## •\tRemove the third item from the list.\n"
      ],
      "metadata": {
        "id": "oom32zCt3lOq"
      }
    },
    {
      "cell_type": "code",
      "source": [
        "# 4. Remove List Items\n",
        "animals = [\"Cat\", \"elephant\", \"Tiger\", \"Dog\"]\n",
        "del animals[2]\n",
        "print(\"Updated animals:\", animals)"
      ],
      "metadata": {
        "colab": {
          "base_uri": "https://localhost:8080/"
        },
        "id": "TpnEld8P2j9N",
        "outputId": "42925e16-4250-4f28-f14d-db004833d50b"
      },
      "execution_count": 19,
      "outputs": [
        {
          "output_type": "stream",
          "name": "stdout",
          "text": [
            "Updated animals: ['Cat', 'elephant', 'Dog']\n"
          ]
        }
      ]
    },
    {
      "cell_type": "markdown",
      "source": [
        "# 5.\tLoop Lists:\n",
        "## •\tCreate a list of cities.\n",
        "## •\tLoop through the list and print each city.\n"
      ],
      "metadata": {
        "id": "ascUEVhF3rRb"
      }
    },
    {
      "cell_type": "code",
      "source": [
        "# 5. Loop Lists\n",
        "cities = [\"New York\", \"Melbourne\", \"Berlin\", \"Paris\"]\n",
        "for city in cities:\n",
        "    print(city)"
      ],
      "metadata": {
        "colab": {
          "base_uri": "https://localhost:8080/"
        },
        "id": "6kS5hAcs2j6i",
        "outputId": "2f39db66-687a-4de0-b6f8-054258a46466"
      },
      "execution_count": 20,
      "outputs": [
        {
          "output_type": "stream",
          "name": "stdout",
          "text": [
            "New York\n",
            "Melbourne\n",
            "Berlin\n",
            "Paris\n"
          ]
        }
      ]
    },
    {
      "cell_type": "markdown",
      "source": [
        "# 6.\tList Comprehension:\n",
        "## •\tCreate a list of numbers from 1 to 10.\n",
        "## •\tUse list comprehension to create a new list containing the square of each number.\n"
      ],
      "metadata": {
        "id": "U8CLRHTt3v6O"
      }
    },
    {
      "cell_type": "code",
      "source": [
        "# 6. List Comprehension\n",
        "numbers = [i for i in range(1, 11)]\n",
        "squared_numbers = [x**2 for x in numbers]\n",
        "print(\"Squared numbers:\", squared_numbers)"
      ],
      "metadata": {
        "colab": {
          "base_uri": "https://localhost:8080/"
        },
        "id": "wUr558Y22j4M",
        "outputId": "61b8b9b6-f4cf-4d29-d0a3-e689065e363e"
      },
      "execution_count": 7,
      "outputs": [
        {
          "output_type": "stream",
          "name": "stdout",
          "text": [
            "Squared numbers: [1, 4, 9, 16, 25, 36, 49, 64, 81, 100]\n"
          ]
        }
      ]
    },
    {
      "cell_type": "markdown",
      "source": [
        "# 7.\tSort Lists:\n",
        "## •\tCreate a list of names.\n",
        "## •\tSort the list alphabetically.\n"
      ],
      "metadata": {
        "id": "Zc9XYUVF300R"
      }
    },
    {
      "cell_type": "code",
      "source": [
        "# 7. Sort Lists\n",
        "names = [\"Qasim\", \"Khan\", \"Hamza\", \"Rashid\"]\n",
        "names.sort()\n",
        "print(\"Sorted names:\", names)"
      ],
      "metadata": {
        "colab": {
          "base_uri": "https://localhost:8080/"
        },
        "id": "JPfrpNrE2jwH",
        "outputId": "b3bcfca3-8586-4893-89e4-a24981c10e2a"
      },
      "execution_count": 21,
      "outputs": [
        {
          "output_type": "stream",
          "name": "stdout",
          "text": [
            "Sorted names: ['Hamza', 'Khan', 'Qasim', 'Rashid']\n"
          ]
        }
      ]
    },
    {
      "cell_type": "markdown",
      "source": [
        "# 8.\tCopy Lists:\n",
        "## •\tCreate a list of fruits.\n",
        "## •\tCopy the list into a new list.\n"
      ],
      "metadata": {
        "id": "grmsm7KU36Zj"
      }
    },
    {
      "cell_type": "code",
      "source": [
        "# 8. Copy Lists\n",
        "fruits = [\"apple\", \"banana\", \"orange\"]\n",
        "fruits_copy = fruits.copy()\n",
        "print(\"Copied list:\", fruits_copy)"
      ],
      "metadata": {
        "colab": {
          "base_uri": "https://localhost:8080/"
        },
        "id": "HEPYMOQz2wCY",
        "outputId": "0ca29ca3-21b3-44ab-8e7f-343c7a6e7b55"
      },
      "execution_count": 9,
      "outputs": [
        {
          "output_type": "stream",
          "name": "stdout",
          "text": [
            "Copied list: ['apple', 'banana', 'orange']\n"
          ]
        }
      ]
    },
    {
      "cell_type": "markdown",
      "source": [
        "# 9.\tJoin Lists:\n",
        "## •\tCreate two lists of numbers.\n",
        "## •\tJoin the two lists into a single list.\n"
      ],
      "metadata": {
        "id": "hIhtKgZJ3-gU"
      }
    },
    {
      "cell_type": "code",
      "source": [
        "# 9. Join Lists\n",
        "list1 = [3,4,5]\n",
        "list2 = [6,7,8]\n",
        "combined_list = list1 + list2\n",
        "print(\"Combined list:\", combined_list)"
      ],
      "metadata": {
        "colab": {
          "base_uri": "https://localhost:8080/"
        },
        "id": "tGnhGsju2wAA",
        "outputId": "379dc780-9a21-40c6-a893-c079a0dea542"
      },
      "execution_count": 22,
      "outputs": [
        {
          "output_type": "stream",
          "name": "stdout",
          "text": [
            "Combined list: [3, 4, 5, 6, 7, 8]\n"
          ]
        }
      ]
    },
    {
      "cell_type": "markdown",
      "source": [
        "# 10.\tList Methods:\n",
        "## •\tCreate a list of fruits.\n",
        "## •\tUse the append() method to add a new fruit to the list.\n",
        "## •\tUse the pop() method to remove the last fruit from the list.\n"
      ],
      "metadata": {
        "id": "-b-f-XcP4C-g"
      }
    },
    {
      "cell_type": "code",
      "source": [
        "# 10. List Methods\n",
        "fruits = [\"Banana\", \"peach\", \"watermelon\"]\n",
        "fruits.append(\"grape\")\n",
        "print(\"Updated fruits:\", fruits)\n",
        "last_fruit = fruits.pop()\n",
        "print(\"Removed fruit:\", last_fruit)"
      ],
      "metadata": {
        "colab": {
          "base_uri": "https://localhost:8080/"
        },
        "id": "RbSc8ynh2v9c",
        "outputId": "b746c33c-c32d-48f7-9d80-4815fdf75a1e"
      },
      "execution_count": 24,
      "outputs": [
        {
          "output_type": "stream",
          "name": "stdout",
          "text": [
            "Updated fruits: ['Banana', 'peach', 'watermelon', 'grape']\n",
            "Removed fruit: grape\n"
          ]
        }
      ]
    },
    {
      "cell_type": "markdown",
      "source": [
        "# 11.\tCombining Lists and List Comprehension:\n",
        "\n",
        "## •\tCreate two lists, one containing numbers from 1 to 5 and another containing numbers from 6 to 10.\n",
        "## •\tUse list comprehension to create a new list that contains the sum of corresponding elements from the two lists.\n"
      ],
      "metadata": {
        "id": "wXjb6tUm4Hxo"
      }
    },
    {
      "cell_type": "code",
      "source": [
        "# 11. Combining Lists and List Comprehension\n",
        "list1 = [1, 2, 3, 4, 5]\n",
        "list2 = [6, 7, 8, 9, 10]\n",
        "sum_list = [x + y for x, y in zip(list1, list2)]\n",
        "print(\"Sum list:\", sum_list)\n"
      ],
      "metadata": {
        "colab": {
          "base_uri": "https://localhost:8080/"
        },
        "id": "_Y82LIO32v7F",
        "outputId": "23c9ad11-776a-461e-e092-fc6728897755"
      },
      "execution_count": 12,
      "outputs": [
        {
          "output_type": "stream",
          "name": "stdout",
          "text": [
            "Sum list: [7, 9, 11, 13, 15]\n"
          ]
        }
      ]
    },
    {
      "cell_type": "markdown",
      "source": [
        "# 12.\tFiltering and Sorting:\n",
        "## Create a list of numbers.\n",
        "## •\tUse list comprehension to create a new list containing only the even numbers from the original list.\n",
        "## •\tSort the new list in descending order.\n",
        "\n"
      ],
      "metadata": {
        "id": "csSwPSrN4MS3"
      }
    },
    {
      "cell_type": "code",
      "source": [
        "# 12. Filtering and Sorting\n",
        "numbers = [23, 12, 35, 56, 75, 33, 88]\n",
        "even_numbers = [x for x in numbers if x % 2 == 0]\n",
        "even_numbers.sort(reverse=True)\n",
        "print(\"Sorted even numbers:\", even_numbers)"
      ],
      "metadata": {
        "colab": {
          "base_uri": "https://localhost:8080/"
        },
        "id": "l3zDd9kQ2v4h",
        "outputId": "b4293f7f-00d5-46c7-9ce0-39390451464b"
      },
      "execution_count": 25,
      "outputs": [
        {
          "output_type": "stream",
          "name": "stdout",
          "text": [
            "Sorted even numbers: [88, 56, 12]\n"
          ]
        }
      ]
    },
    {
      "cell_type": "markdown",
      "source": [
        "# 13.\tList Slicing and Reversing:\n",
        "## •\tCreate a list of numbers from 1 to 10.\n",
        "## •\tUse list slicing to create a new list containing only the even numbers from the original list, in reverse order.\n"
      ],
      "metadata": {
        "id": "JfY0Exhs4S3w"
      }
    },
    {
      "cell_type": "code",
      "source": [
        "\n",
        "# 13. List Slicing and Reversing\n",
        "numbers = list(range(1, 11))\n",
        "even_numbers_reverse = numbers[1::2][::-1]\n",
        "print(\"Even numbers in reverse:\", even_numbers_reverse)"
      ],
      "metadata": {
        "colab": {
          "base_uri": "https://localhost:8080/"
        },
        "id": "3hkimka-2584",
        "outputId": "fd58dbbf-145d-4f0b-e73b-6a62e1fb4e6d"
      },
      "execution_count": 14,
      "outputs": [
        {
          "output_type": "stream",
          "name": "stdout",
          "text": [
            "Even numbers in reverse: [10, 8, 6, 4, 2]\n"
          ]
        }
      ]
    },
    {
      "cell_type": "markdown",
      "source": [
        "# 14.\tCombining Lists and List Methods:\n",
        "## •\tCreate two lists, one containing even numbers and another containing odd numbers.\n",
        "## •\tUse list methods to combine the two lists into a single list, alternating between even and odd numbers.\n"
      ],
      "metadata": {
        "id": "xuNit9T64Ww2"
      }
    },
    {
      "cell_type": "code",
      "source": [
        "# 14. Combining Lists and List Methods\n",
        "even_numbers = [2, 4, 6, 8, 10]\n",
        "odd_numbers = [1, 3, 5, 7, 9]\n",
        "combined_list = []\n",
        "for even, odd in zip(even_numbers, odd_numbers):\n",
        "    combined_list.append(even)\n",
        "    combined_list.append(odd)\n",
        "print(\"Combined list:\", combined_list)"
      ],
      "metadata": {
        "colab": {
          "base_uri": "https://localhost:8080/"
        },
        "id": "_sRm8dK7256U",
        "outputId": "8aeccaee-7cef-4b1b-d170-a56bb0e9b6ee"
      },
      "execution_count": 15,
      "outputs": [
        {
          "output_type": "stream",
          "name": "stdout",
          "text": [
            "Combined list: [2, 1, 4, 3, 6, 5, 8, 7, 10, 9]\n"
          ]
        }
      ]
    }
  ]
}