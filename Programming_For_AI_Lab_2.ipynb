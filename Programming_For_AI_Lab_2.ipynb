{
  "nbformat": 4,
  "nbformat_minor": 0,
  "metadata": {
    "colab": {
      "provenance": [],
      "collapsed_sections": [
        "_7Yvew5P-QMG",
        "vZPTBamcBUUB",
        "B1s9yAnCB-GB",
        "0xfab6mHCVGP",
        "A7pgULgfEuiA",
        "2mjN2CDsGW6t"
      ],
      "authorship_tag": "ABX9TyMlz9K3VJJGU4gLRebW89wR",
      "include_colab_link": true
    },
    "kernelspec": {
      "name": "python3",
      "display_name": "Python 3"
    },
    "language_info": {
      "name": "python"
    }
  },
  "cells": [
    {
      "cell_type": "markdown",
      "metadata": {
        "id": "view-in-github",
        "colab_type": "text"
      },
      "source": [
        "<a href=\"https://colab.research.google.com/github/theqasimkhan/Programming-For-AI-Lab/blob/main/Programming_For_AI_Lab_2.ipynb\" target=\"_parent\"><img src=\"https://colab.research.google.com/assets/colab-badge.svg\" alt=\"Open In Colab\"/></a>"
      ]
    },
    {
      "cell_type": "markdown",
      "source": [
        "# **This is Lab 2 for Programming for AI and we have assigned different task where i can solve it one by one:**\n",
        "\n",
        "*   Varriable\n",
        "*   Type Casting\n",
        "*   \n",
        "\n"
      ],
      "metadata": {
        "id": "Me_2g60O_Z1W"
      }
    },
    {
      "cell_type": "markdown",
      "source": [
        "\n",
        "# **Task 1**"
      ],
      "metadata": {
        "id": "XfQ-51AtDFED"
      }
    },
    {
      "cell_type": "markdown",
      "source": [
        "\n",
        "### **5 Different Example of Int Data Type**\n",
        "\n",
        "```\n",
        "Here we can use the variable and the int type numbers and assign it to some variable and then print it in a very simple way.\n",
        "\n"
      ],
      "metadata": {
        "id": "_7Yvew5P-QMG"
      }
    },
    {
      "cell_type": "code",
      "execution_count": 12,
      "metadata": {
        "colab": {
          "base_uri": "https://localhost:8080/"
        },
        "id": "cd08Dbn95Ood",
        "outputId": "865f1da2-03d6-4f67-ca4f-9ca6578b4c9a"
      },
      "outputs": [
        {
          "output_type": "stream",
          "name": "stdout",
          "text": [
            "10 -20 1000000 20\n"
          ]
        }
      ],
      "source": [
        "num1 = 10\n",
        "num2 = -20\n",
        "num3 = 1_000_000\n",
        "result = 5 * 4\n",
        "user_input = int(input(\"Enter an integer: \"))\n",
        "\n",
        "print(num1,num2,num3,result,)\n",
        "print(type(num1))\n",
        "\n",
        "print(num2)\n",
        "print(type(num2))\n",
        "\n",
        "print(num3)\n",
        "print(type(num3))\n",
        "\n",
        "print(result)\n",
        "print(type(result))\n",
        "\n",
        "print(user_input)\n",
        "print(type(user_input))\n"
      ]
    },
    {
      "cell_type": "markdown",
      "source": [
        "### **5 Different Example of Float Data Type**\n",
        "\n",
        "```\n",
        "Here we can use the variable and the float type numbers and assign it to some variable and then print it in a very simple way.\n",
        "\n",
        "```\n",
        "\n"
      ],
      "metadata": {
        "id": "vZPTBamcBUUB"
      }
    },
    {
      "cell_type": "code",
      "source": [
        "num1 = 3.14\n",
        "pi=3.14\n",
        "num2 = -42.5\n",
        "result = 10.0 / 3\n",
        "user_input = float(input(\"Enter a float: \"))\n",
        "\n",
        "print(num1)\n",
        "print(type(num1))\n",
        "\n",
        "print(pi)\n",
        "print(type(pi))\n",
        "\n",
        "print(num2)\n",
        "print(type(num2))\n",
        "\n",
        "print(result)\n",
        "print(type(result))\n",
        "\n",
        "print(user_input)\n",
        "print(type(user_input))\n"
      ],
      "metadata": {
        "colab": {
          "base_uri": "https://localhost:8080/"
        },
        "id": "z3E27zKj_kVp",
        "outputId": "ddbae306-e346-4f50-f924-7811c0913d1e"
      },
      "execution_count": 7,
      "outputs": [
        {
          "output_type": "stream",
          "name": "stdout",
          "text": [
            "Enter a float: 2.11\n",
            "3.14\n",
            "<class 'float'>\n",
            "3.14\n",
            "<class 'float'>\n",
            "-42.5\n",
            "<class 'float'>\n",
            "3.3333333333333335\n",
            "<class 'float'>\n",
            "2.11\n",
            "<class 'float'>\n"
          ]
        }
      ]
    },
    {
      "cell_type": "markdown",
      "source": [
        "### **5 Different Example of Complex Data Type**\n",
        "\n",
        "```\n",
        "Here we can use the variable and the complex type numbers and assign it to some variable and then print it in a very simple way.\n",
        "\n",
        "2+3j\n",
        "\n",
        "```\n",
        "### **The 2 is real part and 3j is imaginary Part**\n",
        "\n"
      ],
      "metadata": {
        "id": "B1s9yAnCB-GB"
      }
    },
    {
      "cell_type": "code",
      "source": [
        "num1 = 2 + 3j\n",
        "num2 = -4j\n",
        "result = complex(1, -2)\n",
        "user_input = complex(input(\"Enter a complex number (e.g., 2+3j): \"))\n",
        "\n",
        "print(num1)\n",
        "print(type(num1))\n",
        "\n",
        "print(num2)\n",
        "print(type(num2))\n",
        "\n",
        "print(result)\n",
        "print(type(result))\n",
        "\n",
        "print(user_input)\n",
        "print(type(user_input))\n"
      ],
      "metadata": {
        "colab": {
          "base_uri": "https://localhost:8080/"
        },
        "id": "RgZ7MtAlBmz_",
        "outputId": "a4e97f74-4e9a-43d4-fdad-f7ecb1d6558c"
      },
      "execution_count": 8,
      "outputs": [
        {
          "output_type": "stream",
          "name": "stdout",
          "text": [
            "Enter a complex number (e.g., 2+3j): 3+4j\n",
            "(2+3j)\n",
            "<class 'complex'>\n",
            "(-0-4j)\n",
            "<class 'complex'>\n",
            "(1-2j)\n",
            "<class 'complex'>\n",
            "(3+4j)\n",
            "<class 'complex'>\n"
          ]
        }
      ]
    },
    {
      "cell_type": "markdown",
      "source": [
        "\n",
        "# **Task 2**"
      ],
      "metadata": {
        "id": "dvcIO1QfDIp1"
      }
    },
    {
      "cell_type": "markdown",
      "source": [
        "# Now We use Typecasting from Int to float and int to complex and float to int and float to complex and vice versa."
      ],
      "metadata": {
        "id": "0xfab6mHCVGP"
      }
    },
    {
      "cell_type": "code",
      "source": [
        "# Typecasting examples for integer\n",
        "int_from_float = int(3.14)\n",
        "int_from_string = int(\"42\")\n",
        "#int_from_complex = int(4 + 3j)\n",
        "\n",
        "print(int_from_float, type(int_from_float))\n",
        "print(int_from_string, type(int_from_string))\n",
        "#print(int_from_complex, type(int_from_complex))\n",
        "\n",
        "# Typecasting examples for float\n",
        "float_from_int = float(10)\n",
        "float_from_string = float(\"3.14\")\n",
        "#float_from_complex = float(4 + 3j)\n",
        "\n",
        "print(float_from_int, type(float_from_int))\n",
        "print(float_from_string, type(float_from_string))\n",
        "#print(float_from_complex, type(float_from_complex))\n",
        "\n",
        "# Typecasting examples for complex\n",
        "complex_from_int = complex(5)\n",
        "complex_from_float = complex(3.14)\n",
        "complex_from_string = complex(\"2+3j\")\n",
        "\n",
        "print(complex_from_int, type(complex_from_int))\n",
        "print(complex_from_float, type(complex_from_float))\n",
        "print(complex_from_string, type(complex_from_string))\n"
      ],
      "metadata": {
        "colab": {
          "base_uri": "https://localhost:8080/"
        },
        "id": "S5JAvPeNB2qo",
        "outputId": "6f1ff8e7-2ead-4a9b-aa80-0ecad352d27f"
      },
      "execution_count": 11,
      "outputs": [
        {
          "output_type": "stream",
          "name": "stdout",
          "text": [
            "3 <class 'int'>\n",
            "42 <class 'int'>\n",
            "10.0 <class 'float'>\n",
            "3.14 <class 'float'>\n",
            "(5+0j) <class 'complex'>\n",
            "(3.14+0j) <class 'complex'>\n",
            "(2+3j) <class 'complex'>\n"
          ]
        }
      ]
    },
    {
      "cell_type": "code",
      "source": [],
      "metadata": {
        "id": "4iZKP5ziDxN7"
      },
      "execution_count": null,
      "outputs": []
    },
    {
      "cell_type": "markdown",
      "source": [
        "# **Task 3**"
      ],
      "metadata": {
        "id": "UZagomc7EdjE"
      }
    },
    {
      "cell_type": "markdown",
      "source": [
        "# 3.\tAssign multiple strings to single variable with your name, registration number, program, semester etc."
      ],
      "metadata": {
        "id": "A7pgULgfEuiA"
      }
    },
    {
      "cell_type": "code",
      "source": [
        "# Assigning multiple strings to a single variable\n",
        "student_info = (\"Qasim Khan \", \"B22F0248AI051\", \"Bs-AI\", \"4th\")\n",
        "\n",
        "# Printing the variable\n",
        "print(student_info)\n"
      ],
      "metadata": {
        "colab": {
          "base_uri": "https://localhost:8080/"
        },
        "id": "BiDF1oODEp0a",
        "outputId": "e05eb967-3a42-4be5-8bdc-0646e4adb3b6"
      },
      "execution_count": 13,
      "outputs": [
        {
          "output_type": "stream",
          "name": "stdout",
          "text": [
            "('Qasim Khan ', 'B22F0248AI051', 'Bs-AI', '4th')\n"
          ]
        }
      ]
    },
    {
      "cell_type": "markdown",
      "source": [
        "# **Task 4**"
      ],
      "metadata": {
        "id": "30BgAPRgFy2f"
      }
    },
    {
      "cell_type": "markdown",
      "source": [
        "# 4.\tWrite Your country name and access the last 3 characters."
      ],
      "metadata": {
        "id": "zVLeuzHgFytd"
      }
    },
    {
      "cell_type": "code",
      "source": [
        "C=\"Pakistan\"\n",
        "print(C[5],C[6],C[7])\n"
      ],
      "metadata": {
        "colab": {
          "base_uri": "https://localhost:8080/"
        },
        "id": "hFmhNRj-FxR-",
        "outputId": "2d6af8ba-46f1-4d8c-e7fc-65941fab0f8f"
      },
      "execution_count": 14,
      "outputs": [
        {
          "output_type": "stream",
          "name": "stdout",
          "text": [
            "t a n\n"
          ]
        }
      ]
    },
    {
      "cell_type": "markdown",
      "source": [
        "# **Task 5**"
      ],
      "metadata": {
        "id": "2j1cAerSGXG_"
      }
    },
    {
      "cell_type": "markdown",
      "source": [
        "# 5.\tWrite code and observe using len () function it counts space or not."
      ],
      "metadata": {
        "id": "2mjN2CDsGW6t"
      }
    },
    {
      "cell_type": "code",
      "source": [
        "string=\"My Name Is Qasim\"\n",
        "print(len(string))"
      ],
      "metadata": {
        "colab": {
          "base_uri": "https://localhost:8080/"
        },
        "id": "72W4wlCBGU8n",
        "outputId": "ee609aeb-1ea4-467c-a4d3-5ca0a113dd7b"
      },
      "execution_count": 15,
      "outputs": [
        {
          "output_type": "stream",
          "name": "stdout",
          "text": [
            "16\n"
          ]
        }
      ]
    },
    {
      "cell_type": "markdown",
      "source": [
        "# **Task 6**"
      ],
      "metadata": {
        "id": "by86Zm6vG1ZR"
      }
    },
    {
      "cell_type": "markdown",
      "source": [
        "# 6.\tWrite code to access the 2nd and 3rd character of your name using negative indexes."
      ],
      "metadata": {
        "id": "lkl9BoU8G1XB"
      }
    },
    {
      "cell_type": "code",
      "source": [
        "name=\"Qasim\"\n",
        "print(name[-4:-2])"
      ],
      "metadata": {
        "colab": {
          "base_uri": "https://localhost:8080/"
        },
        "id": "sfpkKfIMGn_7",
        "outputId": "f3e82f3b-7af3-42b8-aa42-3daf3215894e"
      },
      "execution_count": 17,
      "outputs": [
        {
          "output_type": "stream",
          "name": "stdout",
          "text": [
            "as\n"
          ]
        }
      ]
    },
    {
      "cell_type": "markdown",
      "source": [
        "# **Task 7**"
      ],
      "metadata": {
        "id": "IZLZG6xrIZbc"
      }
    },
    {
      "cell_type": "markdown",
      "source": [
        "# 7.\tWrite python code in which you pass index number to format () function and arguments must be 4 and same code without indexes."
      ],
      "metadata": {
        "id": "7fZG2aFqIZTA"
      }
    },
    {
      "cell_type": "code",
      "source": [
        "age = 21\n",
        "p_age = \"Qasim age is {}\"\n",
        "print(p_age.format(age),p_age[3:9])\n",
        "\n",
        "age = 20\n",
        "p_age = \"hamza age is {}\"\n",
        "print(p_age.format(age),p_age[3:9])\n",
        "age = 19\n",
        "p_age = \"Ahmed age is {}\"\n",
        "print(p_age.format(age),p_age[3:9])\n",
        "age = 42\n",
        "p_age = \"Ali age is {}\"\n",
        "\n",
        "print(p_age.format(age),p_age[3:9])"
      ],
      "metadata": {
        "colab": {
          "base_uri": "https://localhost:8080/"
        },
        "id": "K2HyGz2uJr37",
        "outputId": "a91fe178-9bae-4a25-b2cf-3101631df6f7"
      },
      "execution_count": 19,
      "outputs": [
        {
          "output_type": "stream",
          "name": "stdout",
          "text": [
            "Qasim age is 21 im age\n",
            "hamza age is 20 za age\n",
            "Ahmed age is 19 ed age\n",
            "Ali age is 42  age i\n"
          ]
        }
      ]
    },
    {
      "cell_type": "markdown",
      "source": [
        "# **Task 8**"
      ],
      "metadata": {
        "id": "IPMw2UGyJj6q"
      }
    },
    {
      "cell_type": "markdown",
      "source": [
        "# 8.\tTake input from user and then display it like “John age is age.”"
      ],
      "metadata": {
        "id": "Ui27XyaMJjyc"
      }
    },
    {
      "cell_type": "code",
      "source": [
        "\n",
        "name = input(\"Enter your name: \")\n",
        "age = input(\"Enter your age: \")\n",
        "\n",
        "\n",
        "output = \"{}'s age is {}.\".format(name, age)\n",
        "print(output)\n"
      ],
      "metadata": {
        "colab": {
          "base_uri": "https://localhost:8080/"
        },
        "id": "V3yjMRkZISPt",
        "outputId": "5f6623fb-f127-4ff7-fd99-7594b72ee852"
      },
      "execution_count": 20,
      "outputs": [
        {
          "output_type": "stream",
          "name": "stdout",
          "text": [
            "Enter your name: Qasim khan\n",
            "Enter your age: 21\n",
            "Qasim khan's age is 21.\n"
          ]
        }
      ]
    },
    {
      "cell_type": "code",
      "source": [],
      "metadata": {
        "id": "3RG2I00rKVLn"
      },
      "execution_count": null,
      "outputs": []
    }
  ]
}